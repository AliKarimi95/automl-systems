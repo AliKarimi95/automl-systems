{
  "cells": [
    {
      "cell_type": "markdown",
      "id": "bad82c26-52c4-4e77-8482-3cf93df77d83",
      "metadata": {
        "jp-MarkdownHeadingCollapsed": true,
        "tags": [],
        "id": "bad82c26-52c4-4e77-8482-3cf93df77d83"
      },
      "source": [
        "# Download datasets and libraries"
      ]
    },
    {
      "cell_type": "code",
      "execution_count": null,
      "id": "88c09389-aaa6-49fb-bdee-160ab2b8c608",
      "metadata": {
        "id": "88c09389-aaa6-49fb-bdee-160ab2b8c608"
      },
      "outputs": [],
      "source": [
        "!pip install h2o\n",
        "!pip install auto-sklearn==0.14.6\n",
        "!pip install autogluon\n",
        "!pip install autokeras"
      ]
    },
    {
      "cell_type": "code",
      "execution_count": null,
      "id": "375eb918-0317-49b5-82d3-16ecfa9878d6",
      "metadata": {
        "id": "375eb918-0317-49b5-82d3-16ecfa9878d6"
      },
      "outputs": [],
      "source": [
        "# to download data uncomment the following lines\n",
        "\n",
        "# open-ml datasets\n",
        "\n",
        "# !wget https://api.openml.org/data/v1/download/22103263/houses.arff\n",
        "# !wget https://api.openml.org/data/v1/download/3626/kin8nm.arff\n",
        "# !wget https://api.openml.org/data/v1/download/31/credit-g.arff\n",
        "# !wget https://api.openml.org/data/v1/download/16787463/Satellite.arff\n",
        "# !wget https://api.openml.org/data/v1/download/6/letter.arff"
      ]
    },
    {
      "cell_type": "code",
      "source": [
        "# to download kaggle datasets, upload your kaggle API token into files panel, then run the cell\n",
        "!rm -r ~/.kaggle\n",
        "!mkdir ~/.kaggle\n",
        "!cp kaggle.json ~/.kaggle"
      ],
      "metadata": {
        "id": "T8EPrQhbeINM"
      },
      "id": "T8EPrQhbeINM",
      "execution_count": null,
      "outputs": []
    },
    {
      "cell_type": "code",
      "source": [
        "!rm -r datasets\n",
        "!mkdir datasets"
      ],
      "metadata": {
        "id": "G2K5Len6eViD"
      },
      "id": "G2K5Len6eViD",
      "execution_count": null,
      "outputs": []
    },
    {
      "cell_type": "code",
      "source": [
        "!kaggle competitions download -c tabular-playground-series-jan-2022 -p datasets\n",
        "!unzip datasets/tabular-playground-series-jan-2022.zip -d datasets/tmp\n",
        "!mv datasets/tmp/train.csv datasets/seasonal_product_sales_jan_2022.csv\n",
        "!rm -r datasets/tmp\n",
        "\n",
        "# add other datasets as well"
      ],
      "metadata": {
        "id": "RaPouxz7eciv"
      },
      "id": "RaPouxz7eciv",
      "execution_count": null,
      "outputs": []
    },
    {
      "cell_type": "markdown",
      "id": "b36b7fe5-e945-4f13-8f88-13f79e0d19b6",
      "metadata": {
        "id": "b36b7fe5-e945-4f13-8f88-13f79e0d19b6"
      },
      "source": [
        "# Split datasets"
      ]
    },
    {
      "cell_type": "code",
      "execution_count": null,
      "id": "db4d2c97-6d4d-4643-a920-0ac29f452e15",
      "metadata": {
        "id": "db4d2c97-6d4d-4643-a920-0ac29f452e15"
      },
      "outputs": [],
      "source": [
        "import pandas as pd\n",
        "from scipy.io.arff import loadarff \n",
        "from pathlib import Path\n",
        "import os\n",
        "from sklearn.model_selection import train_test_split"
      ]
    },
    {
      "cell_type": "code",
      "execution_count": null,
      "id": "ec28eca9-50a0-424b-839a-82bb9ebfd731",
      "metadata": {
        "id": "ec28eca9-50a0-424b-839a-82bb9ebfd731"
      },
      "outputs": [],
      "source": [
        "# constants\n",
        "SPLITS_DIR = 'splits'\n",
        "TEST_RATIO = 0.2  \n",
        "TARGET_COL = 'y'"
      ]
    },
    {
      "cell_type": "code",
      "execution_count": null,
      "id": "05b3d821-6e86-4981-8dcd-79fa6112fe4f",
      "metadata": {
        "id": "05b3d821-6e86-4981-8dcd-79fa6112fe4f"
      },
      "outputs": [],
      "source": [
        "class Dataset:\n",
        "    def __init__(self, name, task, init_target, fit_kwargs=None):\n",
        "        self.name = name\n",
        "        self.task = task\n",
        "        self.init_target = init_target\n",
        "        self.fit_kwargs = fit_kwargs\n",
        "        \n",
        "        splits_dir = Path('datasets') / Path('splits')\n",
        "        splits_dir.mkdir(exist_ok=True)\n",
        "        \n",
        "        self.train_csv_path = str(splits_dir / f'{self.name}_train.csv')\n",
        "        self.test_csv_path = str(splits_dir / f'{self.name}_test.csv')\n",
        "        \n",
        "    def _load(self):\n",
        "        filename = os.path.join('datasets', self.name + '.arff')\n",
        "        if os.path.isfile(filename):\n",
        "            raw_data = loadarff(filename)\n",
        "            df_data = pd.DataFrame(raw_data[0])\n",
        "            string_cols = df_data.select_dtypes(include='object').columns\n",
        "            if len(string_cols) > 0:\n",
        "                df_data[string_cols] = df_data[string_cols].stack().str.decode('utf-8').unstack()\n",
        "        else:\n",
        "            filename = os.path.join('datasets', self.name + '.csv')\n",
        "            df_data = pd.read_csv(filename)\n",
        "        df_data[TARGET_COL] = df_data[self.init_target]\n",
        "        df_data = df_data.drop(columns=self.init_target)\n",
        "        return df_data\n",
        "    \n",
        "    @property\n",
        "    def is_classification(self):\n",
        "        return 'clf' in self.task\n",
        "    \n",
        "    def make_splits(self):\n",
        "        df = self._load()\n",
        "        statify = None\n",
        "        if self.is_classification:\n",
        "            stratify = df[TARGET_COL].values\n",
        "        train, test = train_test_split(df, test_size=TEST_RATIO, shuffle=True, stratify=statify)\n",
        "        \n",
        "        train.to_csv(self.train_csv_path, index=False)\n",
        "        test.to_csv(self.test_csv_path, index=False) \n",
        "        \n",
        "    def load_splits(self):\n",
        "        train = pd.read_csv(self.train_csv_path)\n",
        "        test = pd.read_csv(self.test_csv_path)\n",
        "        string_cols = train.select_dtypes(include='object').columns\n",
        "        train[string_cols] = train[string_cols].astype('category')\n",
        "        test[string_cols] = test[string_cols].astype('category')\n",
        "        return train, test"
      ]
    },
    {
      "cell_type": "code",
      "execution_count": null,
      "id": "88696d91-dd82-4f6b-8e5d-8c3588ee1b27",
      "metadata": {
        "id": "88696d91-dd82-4f6b-8e5d-8c3588ee1b27"
      },
      "outputs": [],
      "source": [
        "default_fit_args = {'AutoKerasAML': {'epochs': 50, 'batch_size': 1024}}\n",
        "large_dataset_fit_args = {'AutoKerasAML': {'epochs': 50, 'batch_size': 256}}\n",
        "small_datasets_fit_args = { 'AutoKerasAML': {'epochs': 100, 'batch_size': 128} }\n",
        "forest_cover_type_fit_args = {'AutoKerasAML': {'epochs': 50, 'batch_size': 1024, 'label_type': int}}\n",
        "\n",
        "# Define datasets\n",
        "datasets = [\n",
        "    Dataset('houses', 'reg', 'medianhousevalue', small_datasets_fit_args),\n",
        "    # Dataset('kin8nm', 'reg', \"'y'\", default_fit_args),\n",
        "    # Dataset('credit-g', 'binary_clf', 'class', default_fit_args),\n",
        "    # Dataset('Satellite', 'binary_clf', 'Target', default_fit_args),\n",
        "    # Dataset('letter', 'multi_clf', 'class', default_fit_args),\n",
        "    Dataset('enamad_w2v', 'multi_clf', 'tag', large_dataset_fit_args),\n",
        "    \n",
        "    Dataset('seasonal_product_sales_jan_2022', 'reg', 'num_sold', default_fit_args),\n",
        "    Dataset('loan_loss', 'reg', 'loss', large_dataset_fit_args),\n",
        "    Dataset('product_fail_aug_2022', 'binary_clf', 'failure', small_datasets_fit_args),\n",
        "    Dataset('insurance_claim_mar_2021', 'binary_clf', 'target', default_fit_args),\n",
        "    Dataset('titanic_apr_2021', 'binary_clf', 'Survived', default_fit_args),\n",
        "    Dataset('forest_cover_type', 'multi_clf', 'Cover_Type', forest_cover_type_fit_args),\n",
        "    Dataset('product_category_jun_2021', 'multi_clf', 'target', default_fit_args),\n",
        "]"
      ]
    },
    {
      "cell_type": "markdown",
      "id": "e6413554-630f-4a18-9eca-31ee467f7a13",
      "metadata": {
        "jp-MarkdownHeadingCollapsed": true,
        "tags": [],
        "id": "e6413554-630f-4a18-9eca-31ee467f7a13"
      },
      "source": [
        "## make splits"
      ]
    },
    {
      "cell_type": "code",
      "execution_count": null,
      "id": "18489838-680f-4e4f-be13-bbbc13607976",
      "metadata": {
        "id": "18489838-680f-4e4f-be13-bbbc13607976"
      },
      "outputs": [],
      "source": [
        "for dataset in datasets:\n",
        "    print(f'making splits of `{dataset.name}`')\n",
        "    dataset.make_splits()"
      ]
    },
    {
      "cell_type": "markdown",
      "id": "53f38a5c-400c-4b19-809c-8f46bdac0853",
      "metadata": {
        "jp-MarkdownHeadingCollapsed": true,
        "tags": [],
        "id": "53f38a5c-400c-4b19-809c-8f46bdac0853"
      },
      "source": [
        "# Implement systems wrapper"
      ]
    },
    {
      "cell_type": "code",
      "execution_count": null,
      "id": "95c270c9-ac5d-4376-b3e0-721f53b6c293",
      "metadata": {
        "id": "95c270c9-ac5d-4376-b3e0-721f53b6c293"
      },
      "outputs": [],
      "source": [
        "class AutoMLSystem:\n",
        "    def set_dataset(self, dataset):                 # define the dataset and task\n",
        "        pass\n",
        "        \n",
        "    def fit(self, time_budget, fit_kwargs=None):    # start trainig in \n",
        "        pass                                        # pre-determined time budget\n",
        "    \n",
        "    def predict_test(self):                         # return model predicttions\n",
        "        pass                                        # on test data\n",
        "    \n",
        "    def clean_up(self):                             # free up disk and memory\n",
        "        pass"
      ]
    },
    {
      "cell_type": "markdown",
      "id": "595bd427-217d-4a17-9b3a-db4bc445f194",
      "metadata": {
        "tags": [],
        "id": "595bd427-217d-4a17-9b3a-db4bc445f194"
      },
      "source": [
        "## H2O"
      ]
    },
    {
      "cell_type": "code",
      "execution_count": null,
      "id": "f0e7a725-8776-43a1-81c0-4fc91af52b8f",
      "metadata": {
        "id": "f0e7a725-8776-43a1-81c0-4fc91af52b8f"
      },
      "outputs": [],
      "source": [
        "import h2o\n",
        "from h2o.automl import H2OAutoML\n",
        "\n",
        "\n",
        "class H2OAML(AutoMLSystem):\n",
        "    def __init__(self, mem_gb=32):\n",
        "        h2o.init(max_mem_size=mem_gb)\n",
        "        \n",
        "    def set_dataset(self, dataset):\n",
        "        self.dataset = dataset\n",
        "        self.train = h2o.import_file(self.dataset.train_csv_path, header=1)\n",
        "        self.test = h2o.import_file(self.dataset.test_csv_path, header=1)\n",
        "        \n",
        "        if self.dataset.is_classification:\n",
        "            self.train[TARGET_COL] = self.train[TARGET_COL].asfactor()\n",
        "            self.test[TARGET_COL] = self.test[TARGET_COL].asfactor()\n",
        "        \n",
        "    def fit(self, time_budget, fit_kwargs=None):\n",
        "        x = self.train.columns\n",
        "        x.remove(TARGET_COL)\n",
        "        \n",
        "        # Run AutoML\n",
        "        self.aml = H2OAutoML(max_runtime_secs=time_budget)\n",
        "        self.aml.train(x=x, y=TARGET_COL, training_frame=self.train)\n",
        "        \n",
        "    def predict_test(self):\n",
        "        p = self.aml.leader.predict(self.test)\n",
        "        return p.as_data_frame()['predict'].values\n",
        "    \n",
        "    def clean_up(self):\n",
        "        h2o.cluster().shutdown()"
      ]
    },
    {
      "cell_type": "code",
      "execution_count": null,
      "id": "a007dd24-ed4a-4aa1-90fb-b33d16900ae2",
      "metadata": {
        "id": "a007dd24-ed4a-4aa1-90fb-b33d16900ae2"
      },
      "outputs": [],
      "source": [
        "# h2o_aml = H2OAML()\n",
        "# h2o_aml.set_dataset(datasets[4])\n",
        "# h2o_aml.fit(60)\n",
        "# result = h2o_aml.predict_test()\n",
        "# h2o_aml.clean_up()\n",
        "# result"
      ]
    },
    {
      "cell_type": "markdown",
      "id": "fce617d8-0806-4f27-a146-0936f627af7b",
      "metadata": {
        "tags": [],
        "id": "fce617d8-0806-4f27-a146-0936f627af7b"
      },
      "source": [
        "## Auto-sklearn"
      ]
    },
    {
      "cell_type": "code",
      "execution_count": null,
      "id": "db8bba10-d9bf-466e-b740-a1c2ac1ff6b8",
      "metadata": {
        "id": "db8bba10-d9bf-466e-b740-a1c2ac1ff6b8"
      },
      "outputs": [],
      "source": [
        "from autosklearn.regression import AutoSklearnRegressor\n",
        "from autosklearn.classification import AutoSklearnClassifier\n",
        "\n",
        "\n",
        "class AutoSklearnAML(AutoMLSystem):\n",
        "    def set_dataset(self, dataset):\n",
        "        self.dataset = dataset\n",
        "        self.train, self.test = self.dataset.load_splits()\n",
        "        self._feature_cols = list(self.train.columns)\n",
        "        self._feature_cols.remove(TARGET_COL)\n",
        "        \n",
        "    def fit(self, time_budget, fit_kwargs=None):        \n",
        "        aml_cls = AutoSklearnClassifier if self.dataset.is_classification else AutoSklearnRegressor\n",
        "        self.aml = aml_cls(\n",
        "            time_left_for_this_task=time_budget, \n",
        "            memory_limit=16 * 1024\n",
        "        )\n",
        "        print('start fitting ...')\n",
        "        X_train = self.train[self._feature_cols]\n",
        "        y_train = self.train[TARGET_COL]\n",
        "        self.aml.fit(X_train, y_train, dataset_name=self.dataset.name)\n",
        "        \n",
        "    def predict_test(self):\n",
        "        X_test = self.test[self._feature_cols]\n",
        "        return self.aml.predict(X_test)"
      ]
    },
    {
      "cell_type": "code",
      "execution_count": null,
      "id": "eafef1b4-26da-4eba-8b7c-c93bac139160",
      "metadata": {
        "id": "eafef1b4-26da-4eba-8b7c-c93bac139160"
      },
      "outputs": [],
      "source": [
        "# ask_aml = AutoSklearnAML()\n",
        "# ask_aml.set_dataset(datasets[3])\n",
        "# ask_aml.fit(60)\n",
        "# result = ask_aml.predict_test()\n",
        "# result"
      ]
    },
    {
      "cell_type": "markdown",
      "id": "1e2bfdf7-bd85-461a-840a-73a0e4d9733e",
      "metadata": {
        "tags": [],
        "id": "1e2bfdf7-bd85-461a-840a-73a0e4d9733e"
      },
      "source": [
        "## Auto-Gluon"
      ]
    },
    {
      "cell_type": "code",
      "execution_count": null,
      "id": "9d37591b-b902-418a-8313-977a6bd614a6",
      "metadata": {
        "id": "9d37591b-b902-418a-8313-977a6bd614a6"
      },
      "outputs": [],
      "source": [
        "from autogluon.tabular import TabularDataset, TabularPredictor\n",
        "\n",
        "\n",
        "class AutoGluonAML(AutoMLSystem):\n",
        "    def set_dataset(self, dataset):\n",
        "        self.dataset = dataset\n",
        "        self.train = TabularDataset(self.dataset.train_csv_path)\n",
        "        self.test = TabularDataset(self.dataset.test_csv_path)\n",
        "        self._feature_cols = list(self.train.columns)\n",
        "        self._feature_cols.remove(TARGET_COL)\n",
        "        \n",
        "    def fit(self, time_budget, fit_kwargs=None):\n",
        "        problem_type = 'regression'\n",
        "        if self.dataset.task == 'binary_clf':\n",
        "            problem_type = 'binary'\n",
        "        elif self.dataset.task == 'multi_clf':\n",
        "            problem_type = 'multiclass'\n",
        "            \n",
        "        eval_metric = None\n",
        "        if self.dataset.task == 'binary_clf':\n",
        "            eval_metric = 'roc_auc'\n",
        "        \n",
        "        print('start fitting ...')\n",
        "        self.aml = TabularPredictor(label=TARGET_COL, \n",
        "                                    problem_type=problem_type,\n",
        "                                    eval_metric=eval_metric,\n",
        "                                    path=os.path.join('outputs', f'autogluon_{time_budget}',\n",
        "                                                      self.dataset.name)\n",
        "                                   )\n",
        "        self.aml = self.aml.fit(self.train, time_limit=time_budget, presets='medium_quality')\n",
        "    \n",
        "    def predict_test(self):\n",
        "        test_data = self.test[self._feature_cols]\n",
        "        return self.aml.predict(test_data)"
      ]
    },
    {
      "cell_type": "code",
      "execution_count": null,
      "id": "1196d2d4-fbe9-4047-bf76-13f9d76fbbb9",
      "metadata": {
        "id": "1196d2d4-fbe9-4047-bf76-13f9d76fbbb9"
      },
      "outputs": [],
      "source": [
        "# agl = AutoGluonAML()\n",
        "# agl.set_dataset(datasets[3])\n",
        "# agl.fit(60)\n",
        "# test_res = agl.predict_test()\n",
        "# test_res.values"
      ]
    },
    {
      "cell_type": "markdown",
      "id": "c6ee1a98-dd57-4171-beaf-899252f77942",
      "metadata": {
        "tags": [],
        "id": "c6ee1a98-dd57-4171-beaf-899252f77942"
      },
      "source": [
        "## AutoKeras"
      ]
    },
    {
      "cell_type": "code",
      "execution_count": null,
      "id": "ed1f2928-6a89-4706-8227-2994500b6de3",
      "metadata": {
        "id": "ed1f2928-6a89-4706-8227-2994500b6de3"
      },
      "outputs": [],
      "source": [
        "import autokeras as ak\n",
        "import time\n",
        "import copy\n",
        "import numpy as np\n",
        "\n",
        "\n",
        "class AutoKerasAML(AutoMLSystem):\n",
        "    def set_dataset(self, dataset):\n",
        "        print('reading data ...')\n",
        "        self.dataset = dataset\n",
        "        self.train_df, self.test_df = self.dataset.load_splits()\n",
        "        self._feature_cols = list(self.train_df.columns)\n",
        "        self._feature_cols.remove(TARGET_COL)\n",
        "        \n",
        "        # impute nan values. without imputation fitting can't be ran on large datasets\n",
        "        def impute(df):\n",
        "            numeric_cols = df.select_dtypes(include=np.number).columns\n",
        "            cols_with_nans = [c for c in numeric_cols if df[c].isnull().values.any()]\n",
        "            if len(cols_with_nans) == 0:\n",
        "                return df\n",
        "            \n",
        "            nan_replacements = { c : df[c].mean() for c in cols_with_nans}\n",
        "            df = df.fillna(nan_replacements)\n",
        "            return df\n",
        "        \n",
        "        self.train_df[self._feature_cols] = impute(self.train_df[self._feature_cols])\n",
        "        self.test_df[self._feature_cols] = impute(self.test_df[self._feature_cols])\n",
        "        \n",
        "    def fit(self, time_budget, fit_kwargs=None):\n",
        "        aml_cls = ak.StructuredDataClassifier if self.dataset.is_classification else ak.StructuredDataRegressor\n",
        "        fit_kwargs = fit_kwargs or {}\n",
        "        fit_kwargs = copy.copy(fit_kwargs)\n",
        "        self.label_type = fit_kwargs.pop('label_type') if 'label_type' in fit_kwargs else None\n",
        "        x, y = self.train_df[self._feature_cols], self.train_df[[TARGET_COL]]\n",
        "        start_time = time.time()        \n",
        "        elapsed_time = 0\n",
        "        \n",
        "        while elapsed_time < time_budget:\n",
        "            print(f'start new trial, args = {fit_kwargs} ...')\n",
        "            self.aml = aml_cls(\n",
        "                project_name=self.dataset.name,\n",
        "                max_trials=1,\n",
        "                directory=os.path.join('outputs', f'autokeras_{time_budget}'),\n",
        "                overwrite=False)\n",
        "            self.aml.fit(x, y, verbose=True, **fit_kwargs)\n",
        "            elapsed_time = int(time.time() - start_time)\n",
        "            print('elapsed time:', elapsed_time)\n",
        "        \n",
        "    def predict_test(self):\n",
        "        predictions = self.aml.predict(self.test_df[self._feature_cols]).reshape(-1)\n",
        "        if self.label_type is not None:\n",
        "            print('label type is:', self.label_type)\n",
        "            predictions = predictions.astype(self.label_type)\n",
        "        return predictions"
      ]
    },
    {
      "cell_type": "code",
      "execution_count": null,
      "id": "c380c992-440f-4d68-b2cc-b82533a36eef",
      "metadata": {
        "id": "c380c992-440f-4d68-b2cc-b82533a36eef"
      },
      "outputs": [],
      "source": [
        "# d = datasets[3]\n",
        "# akml = AutoKerasAML()\n",
        "# akml.set_dataset(d)\n",
        "# akml.fit(60, fit_kwargs=d.fit_kwargs['AutoKerasAML'])\n",
        "# akml.predict_test()"
      ]
    },
    {
      "cell_type": "markdown",
      "id": "8019789f-b71b-417f-8432-aeb9d9e52568",
      "metadata": {
        "tags": [],
        "id": "8019789f-b71b-417f-8432-aeb9d9e52568"
      },
      "source": [
        "# Benchmarking"
      ]
    },
    {
      "cell_type": "code",
      "execution_count": null,
      "id": "5e826e1f-0629-4822-abd6-2b143ef3de26",
      "metadata": {
        "id": "5e826e1f-0629-4822-abd6-2b143ef3de26"
      },
      "outputs": [],
      "source": [
        "systems_cls = [H2OAML, AutoSklearnAML, AutoGluonAML, AutoKerasAML]\n",
        "time_budgets = [5*60, 20*60]\n",
        "# time_budgets = [20*60]\n",
        "# datasets = datasets[2:3] + datasets[5:]"
      ]
    },
    {
      "cell_type": "code",
      "execution_count": null,
      "id": "57913c99-1655-43db-a387-a9ee7d8a4d03",
      "metadata": {
        "id": "57913c99-1655-43db-a387-a9ee7d8a4d03"
      },
      "outputs": [],
      "source": [
        "min_train_time_h = sum(time_budgets) * len(systems_cls) * len(datasets) / 3600\n",
        "print('Minimum required time (h):', min_train_time_h)"
      ]
    },
    {
      "cell_type": "markdown",
      "id": "dfc267bb-d23f-4e04-91f8-1494aa1b7059",
      "metadata": {
        "jp-MarkdownHeadingCollapsed": true,
        "tags": [],
        "id": "dfc267bb-d23f-4e04-91f8-1494aa1b7059"
      },
      "source": [
        "## Metrics"
      ]
    },
    {
      "cell_type": "code",
      "execution_count": null,
      "id": "715bb8aa-c911-4240-a135-2d10129858b9",
      "metadata": {
        "id": "715bb8aa-c911-4240-a135-2d10129858b9"
      },
      "outputs": [],
      "source": [
        "from sklearn.metrics import (\n",
        "    mean_squared_error, r2_score,\n",
        "    accuracy_score, f1_score\n",
        ")\n",
        "\n",
        "def calculate_metrics(predictions, dataset):\n",
        "    _, test = dataset.load_splits()\n",
        "    labels = test[TARGET_COL].values\n",
        "    \n",
        "    metrics = {}\n",
        "    if dataset.is_classification:\n",
        "        metrics['accuracy'] = accuracy_score(labels, predictions)\n",
        "        metrics['f1_macro'] = f1_score(labels, predictions, average='macro')\n",
        "    else:\n",
        "        metrics['rmse'] = mean_squared_error(labels, predictions)\n",
        "        metrics['r2'] = r2_score(labels, predictions)\n",
        "    return metrics"
      ]
    },
    {
      "cell_type": "code",
      "execution_count": null,
      "id": "56b9b9e0-9a3f-4152-b578-1d52fc6357b0",
      "metadata": {
        "id": "56b9b9e0-9a3f-4152-b578-1d52fc6357b0"
      },
      "outputs": [],
      "source": [
        "import time\n",
        "\n",
        "\n",
        "def run(system_cls, time_budget, dataset):\n",
        "    system_name = system_cls.__name__\n",
        "    result = {\n",
        "        'system': system_name,\n",
        "        'budget': time_budget,\n",
        "        'dataset': dataset.name,\n",
        "        'task': dataset.task,\n",
        "        'status': 'failed'\n",
        "    }\n",
        "    \n",
        "    fit_kwargs = None\n",
        "    if dataset.fit_kwargs is not None and system_name in dataset.fit_kwargs:\n",
        "        fit_kwargs = dataset.fit_kwargs[system_name]\n",
        "    \n",
        "    try:\n",
        "        print('start loading system ...')\n",
        "        t = time.time()\n",
        "        aml = system_cls()\n",
        "        aml.set_dataset(dataset)\n",
        "        result['load_time'] = time.time() - t\n",
        "\n",
        "        print('start training ...')\n",
        "        t = time.time()\n",
        "        aml.fit(time_budget, fit_kwargs)\n",
        "        result['train_time'] = time.time() - t\n",
        "\n",
        "        print('start predicting ...')\n",
        "        t = time.time()\n",
        "        predictions = aml.predict_test()\n",
        "        result['inference_time'] = time.time() - t\n",
        "        \n",
        "        aml.clean_up()\n",
        "\n",
        "        print('caculating metrics ...')\n",
        "        print(predictions)\n",
        "        metrics = calculate_metrics(predictions, dataset)\n",
        "        for m in metrics:\n",
        "            result[f'metric_{m}'] = metrics[m]\n",
        "\n",
        "        result['status'] = 'success'\n",
        "        \n",
        "    except Exception as e:\n",
        "        print('EXCEPTION:', e)\n",
        "        result['exception'] = str(e)\n",
        "    \n",
        "    print(result)\n",
        "    return result"
      ]
    },
    {
      "cell_type": "code",
      "execution_count": null,
      "id": "6f620f0b-5b67-4aa6-98dc-cfa4f460bc9d",
      "metadata": {
        "scrolled": true,
        "tags": [],
        "id": "6f620f0b-5b67-4aa6-98dc-cfa4f460bc9d"
      },
      "outputs": [],
      "source": [
        "all_results = []\n",
        "\n",
        "for b in time_budgets:\n",
        "    for dataset in datasets:\n",
        "        for sys in systems_cls:\n",
        "            r = run(sys, b, dataset)\n",
        "            all_results.append(r)\n",
        "            pd.DataFrame(all_results).to_csv('results.csv', index=False)"
      ]
    },
    {
      "cell_type": "markdown",
      "id": "ea8d1a69-e374-444e-b26f-4026e15ab6c3",
      "metadata": {
        "tags": [],
        "id": "ea8d1a69-e374-444e-b26f-4026e15ab6c3"
      },
      "source": [
        "# Result Analysis"
      ]
    },
    {
      "cell_type": "code",
      "execution_count": null,
      "id": "182ac0cb-08f3-4ea3-bfff-f64d0f5aedc9",
      "metadata": {
        "id": "182ac0cb-08f3-4ea3-bfff-f64d0f5aedc9"
      },
      "outputs": [],
      "source": [
        "pd.options.plotting.backend = 'plotly'"
      ]
    },
    {
      "cell_type": "code",
      "execution_count": null,
      "id": "a3622f88-1930-4449-86ee-09a6c08a9f84",
      "metadata": {
        "id": "a3622f88-1930-4449-86ee-09a6c08a9f84"
      },
      "outputs": [],
      "source": [
        "results_df = pd.read_csv('results_final.csv')\n",
        "results_df"
      ]
    },
    {
      "cell_type": "markdown",
      "id": "28dca755-267c-4cae-a4c2-6196756ff91a",
      "metadata": {
        "id": "28dca755-267c-4cae-a4c2-6196756ff91a"
      },
      "source": [
        "## Error"
      ]
    },
    {
      "cell_type": "code",
      "execution_count": null,
      "id": "e1dcb43b-0119-4124-bd14-ee472bb8a626",
      "metadata": {
        "id": "e1dcb43b-0119-4124-bd14-ee472bb8a626"
      },
      "outputs": [],
      "source": [
        "results_with_error = results_df[~results_df['exception'].isnull()]\n",
        "results_with_error['system'].plot(kind='bar')"
      ]
    },
    {
      "cell_type": "code",
      "execution_count": null,
      "id": "667bea01-c90c-4cf1-8ecc-015f00a141a0",
      "metadata": {
        "id": "667bea01-c90c-4cf1-8ecc-015f00a141a0"
      },
      "outputs": [],
      "source": [
        "results_with_error['dataset'].plot(kind='bar')"
      ]
    },
    {
      "cell_type": "code",
      "execution_count": null,
      "id": "826bc776-56db-4352-96cc-09c068d664a3",
      "metadata": {
        "id": "826bc776-56db-4352-96cc-09c068d664a3"
      },
      "outputs": [],
      "source": [
        "# drop errorness results\n",
        "errorness_systems = list(results_with_error['system'].unique())\n",
        "selected_rows = results_df['system'].apply(lambda s: s in errorness_systems)\n",
        "results_df = results_df[~selected_rows]"
      ]
    },
    {
      "cell_type": "markdown",
      "id": "206c7b73-4c5f-4142-866b-066cbd09c949",
      "metadata": {
        "id": "206c7b73-4c5f-4142-866b-066cbd09c949"
      },
      "source": [
        "## Deviation from trainig budget"
      ]
    },
    {
      "cell_type": "code",
      "execution_count": null,
      "id": "8b18f91a-2d11-4517-87ff-071784dd54f5",
      "metadata": {
        "id": "8b18f91a-2d11-4517-87ff-071784dd54f5"
      },
      "outputs": [],
      "source": [
        "results_df['extra_train_time'] = (results_df['train_time'] - results_df['budget']) / results_df['budget']\n",
        "\n",
        "print('Deviation from training budget:')\n",
        "results_df.groupby('system')['extra_train_time'].mean().plot(kind='bar')"
      ]
    },
    {
      "cell_type": "markdown",
      "id": "85409e4d-29db-4b9b-8e81-4736b91a77b2",
      "metadata": {
        "id": "85409e4d-29db-4b9b-8e81-4736b91a77b2"
      },
      "source": [
        "## Load / Inference time "
      ]
    },
    {
      "cell_type": "code",
      "execution_count": null,
      "id": "a1f876c1-eb02-40e0-b0c5-4594d4b772d5",
      "metadata": {
        "id": "a1f876c1-eb02-40e0-b0c5-4594d4b772d5"
      },
      "outputs": [],
      "source": [
        "results_df.groupby('system')['load_time'].mean().plot(kind='bar', title='Load time')"
      ]
    },
    {
      "cell_type": "code",
      "execution_count": null,
      "id": "71e68952-b021-4f14-9d64-0deed5baf004",
      "metadata": {
        "id": "71e68952-b021-4f14-9d64-0deed5baf004"
      },
      "outputs": [],
      "source": [
        "results_df.groupby('system')['inference_time'].mean().plot(kind='bar', title='Inference time')"
      ]
    },
    {
      "cell_type": "markdown",
      "id": "bf9c877c-329b-448f-a660-23214cc902bc",
      "metadata": {
        "id": "bf9c877c-329b-448f-a660-23214cc902bc"
      },
      "source": [
        "## Average results"
      ]
    },
    {
      "cell_type": "code",
      "execution_count": null,
      "id": "d02a41d2-768c-4ff5-92c2-669dc49464c6",
      "metadata": {
        "id": "d02a41d2-768c-4ff5-92c2-669dc49464c6"
      },
      "outputs": [],
      "source": [
        "metrics = [c for c in results_df.columns if c.startswith('metric')]\n",
        "reg_metrics = metrics[:2]\n",
        "clf_metrics = metrics[2:]"
      ]
    },
    {
      "cell_type": "code",
      "execution_count": null,
      "id": "7670295f-c28a-4afb-a397-de73b0448b0f",
      "metadata": {
        "id": "7670295f-c28a-4afb-a397-de73b0448b0f"
      },
      "outputs": [],
      "source": [
        "def show_average_metrics(task, metrics):\n",
        "    task_results = results_df[results_df['task'] == task]\n",
        "    for metric in metrics:\n",
        "        display(task_results.groupby('system')[metric].mean().T.plot(kind='bar', barmode='group', title=f'{task}-{metric}'))\n",
        "    return task_results"
      ]
    },
    {
      "cell_type": "markdown",
      "id": "ea5473a9-2ca3-42fc-9bbc-134606e21861",
      "metadata": {
        "id": "ea5473a9-2ca3-42fc-9bbc-134606e21861"
      },
      "source": [
        "### Regression"
      ]
    },
    {
      "cell_type": "code",
      "execution_count": null,
      "id": "4edb5caa-5794-46a7-8609-9ed127128691",
      "metadata": {
        "id": "4edb5caa-5794-46a7-8609-9ed127128691"
      },
      "outputs": [],
      "source": [
        "reg_results = show_average_metrics('reg', reg_metrics)"
      ]
    },
    {
      "cell_type": "code",
      "execution_count": null,
      "id": "e40b2e99-f6a3-4e2b-a901-4c277ed22b0c",
      "metadata": {
        "id": "e40b2e99-f6a3-4e2b-a901-4c277ed22b0c"
      },
      "outputs": [],
      "source": [
        "reg_results.groupby(['dataset'])['metric_rmse'].std()"
      ]
    },
    {
      "cell_type": "code",
      "execution_count": null,
      "id": "c05cf886-0a1e-4615-a078-e8e4c249a68a",
      "metadata": {
        "id": "c05cf886-0a1e-4615-a078-e8e4c249a68a"
      },
      "outputs": [],
      "source": [
        "reg_results[reg_results['dataset'] == 'seasonal_product_sales_jan_2022']"
      ]
    },
    {
      "cell_type": "markdown",
      "id": "191332cf-f583-4b66-85f4-3b17bbe74575",
      "metadata": {
        "id": "191332cf-f583-4b66-85f4-3b17bbe74575"
      },
      "source": [
        "### Binary classification"
      ]
    },
    {
      "cell_type": "code",
      "execution_count": null,
      "id": "b6f795c4-3e5d-4cee-9168-c7ce42857c61",
      "metadata": {
        "id": "b6f795c4-3e5d-4cee-9168-c7ce42857c61"
      },
      "outputs": [],
      "source": [
        "bclf_results = show_average_metrics('binary_clf', clf_metrics)"
      ]
    },
    {
      "cell_type": "code",
      "execution_count": null,
      "id": "06170f73-aba7-44dd-961a-94b351851b64",
      "metadata": {
        "id": "06170f73-aba7-44dd-961a-94b351851b64"
      },
      "outputs": [],
      "source": [
        "bclf_results.groupby(['dataset'])['metric_f1_macro'].std()"
      ]
    },
    {
      "cell_type": "markdown",
      "id": "d95484ed-834c-4435-9c81-565b5ad89a5b",
      "metadata": {
        "id": "d95484ed-834c-4435-9c81-565b5ad89a5b"
      },
      "source": [
        "### Multi-class classification"
      ]
    },
    {
      "cell_type": "code",
      "execution_count": null,
      "id": "c6435a7f-0b3b-4fd7-84f8-f23a1a26ce49",
      "metadata": {
        "id": "c6435a7f-0b3b-4fd7-84f8-f23a1a26ce49"
      },
      "outputs": [],
      "source": [
        "mclf_results = show_average_metrics('multi_clf', clf_metrics)"
      ]
    },
    {
      "cell_type": "code",
      "execution_count": null,
      "id": "8f21dd8a-74a9-41e7-831c-61108974a410",
      "metadata": {
        "id": "8f21dd8a-74a9-41e7-831c-61108974a410"
      },
      "outputs": [],
      "source": [
        "mclf_results.groupby(['dataset'])['metric_f1_macro'].std()"
      ]
    },
    {
      "cell_type": "markdown",
      "id": "29aa254b-dd05-4f09-bd0d-ef57c98bff8f",
      "metadata": {
        "id": "29aa254b-dd05-4f09-bd0d-ef57c98bff8f"
      },
      "source": [
        "## Distinct datasets"
      ]
    },
    {
      "cell_type": "code",
      "execution_count": null,
      "id": "52f5b725-4ae3-4499-8a52-2575398c816a",
      "metadata": {
        "id": "52f5b725-4ae3-4499-8a52-2575398c816a"
      },
      "outputs": [],
      "source": [
        "top_std_settings = results_df.groupby(['dataset', 'budget'])[metrics].std().fillna(0).T.max().sort_values(ascending=False)\n",
        "top_std_settings.head(n=8)"
      ]
    },
    {
      "cell_type": "code",
      "execution_count": null,
      "id": "0a4a4b40-856d-44db-8d5f-ede3f884e18b",
      "metadata": {
        "id": "0a4a4b40-856d-44db-8d5f-ede3f884e18b"
      },
      "outputs": [],
      "source": [
        "dataset, budget = top_std_settings.index[0]\n",
        "results_df[(results_df['dataset'] == dataset) & (results_df['budget'] == budget)]"
      ]
    },
    {
      "cell_type": "markdown",
      "id": "63de4bf0-0851-400a-bfd0-fb7460518276",
      "metadata": {
        "id": "63de4bf0-0851-400a-bfd0-fb7460518276"
      },
      "source": [
        "## Improvement over time"
      ]
    },
    {
      "cell_type": "code",
      "execution_count": null,
      "id": "28276887-8a4f-4fc9-a507-f645577c9585",
      "metadata": {
        "id": "28276887-8a4f-4fc9-a507-f645577c9585"
      },
      "outputs": [],
      "source": [
        "quality_metrics = ['metric_r2', 'metric_f1_macro']\n",
        "results_df['quality'] = results_df[quality_metrics].fillna(0).max(axis=1)\n",
        "results_df"
      ]
    },
    {
      "cell_type": "code",
      "execution_count": null,
      "id": "69c5a2dd-7d3a-4345-bc50-b47385d8f13c",
      "metadata": {
        "id": "69c5a2dd-7d3a-4345-bc50-b47385d8f13c"
      },
      "outputs": [],
      "source": [
        "def covert_setting_index_to_col(series, main_col):\n",
        "    series_df = series.to_frame()\n",
        "    series_df.columns = ['unk']\n",
        "    series_df = series_df.reset_index()\n",
        "    series_df = pd.DataFrame(list(series_df.apply(\n",
        "        lambda r: {main_col: r[main_col], r['system']: r['unk']}, axis=1).values))\n",
        "    return series_df.groupby(main_col).max()"
      ]
    },
    {
      "cell_type": "code",
      "execution_count": null,
      "id": "b07b3d14-552f-412c-b6b2-9733a487be40",
      "metadata": {
        "id": "b07b3d14-552f-412c-b6b2-9733a487be40"
      },
      "outputs": [],
      "source": [
        "d = covert_setting_index_to_col(results_df.groupby(['system', 'budget'])['quality'].mean(), 'budget')\n",
        "d.T.plot(kind='bar', barmode='group')"
      ]
    },
    {
      "cell_type": "code",
      "execution_count": null,
      "id": "1ad86d2f-7dd5-479f-9d16-274f01958bd7",
      "metadata": {
        "id": "1ad86d2f-7dd5-479f-9d16-274f01958bd7"
      },
      "outputs": [],
      "source": []
    }
  ],
  "metadata": {
    "kernelspec": {
      "display_name": "Python 3 (ipykernel)",
      "language": "python",
      "name": "python3"
    },
    "language_info": {
      "codemirror_mode": {
        "name": "ipython",
        "version": 3
      },
      "file_extension": ".py",
      "mimetype": "text/x-python",
      "name": "python",
      "nbconvert_exporter": "python",
      "pygments_lexer": "ipython3",
      "version": "3.8.13"
    },
    "colab": {
      "provenance": [],
      "collapsed_sections": [
        "fce617d8-0806-4f27-a146-0936f627af7b",
        "1e2bfdf7-bd85-461a-840a-73a0e4d9733e",
        "c6ee1a98-dd57-4171-beaf-899252f77942",
        "dfc267bb-d23f-4e04-91f8-1494aa1b7059",
        "28dca755-267c-4cae-a4c2-6196756ff91a",
        "206c7b73-4c5f-4142-866b-066cbd09c949",
        "85409e4d-29db-4b9b-8e81-4736b91a77b2",
        "bf9c877c-329b-448f-a660-23214cc902bc",
        "ea5473a9-2ca3-42fc-9bbc-134606e21861",
        "191332cf-f583-4b66-85f4-3b17bbe74575",
        "d95484ed-834c-4435-9c81-565b5ad89a5b",
        "29aa254b-dd05-4f09-bd0d-ef57c98bff8f",
        "63de4bf0-0851-400a-bfd0-fb7460518276"
      ]
    }
  },
  "nbformat": 4,
  "nbformat_minor": 5
}